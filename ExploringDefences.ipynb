{
  "nbformat": 4,
  "nbformat_minor": 0,
  "metadata": {
    "colab": {
      "provenance": [],
      "gpuType": "T4"
    },
    "kernelspec": {
      "name": "python3",
      "display_name": "Python 3"
    },
    "language_info": {
      "name": "python"
    },
    "accelerator": "GPU"
  },
  "cells": [
    {
      "cell_type": "markdown",
      "source": [
        "## Exploring Defences against Data Poisoning and Adversarial Attacks in Machine Learning"
      ],
      "metadata": {
        "id": "XHOUvab73yID"
      }
    },
    {
      "cell_type": "markdown",
      "source": [
        "# Imports"
      ],
      "metadata": {
        "id": "TUyYDppSOsC7"
      }
    },
    {
      "cell_type": "code",
      "execution_count": null,
      "metadata": {
        "id": "RFQeupoHOdcQ",
        "colab": {
          "base_uri": "https://localhost:8080/"
        },
        "outputId": "72945906-0912-410c-aeb5-7eab973ac523"
      },
      "outputs": [
        {
          "output_type": "stream",
          "name": "stdout",
          "text": [
            "Collecting secml\n",
            "  Downloading secml-0.15.6-py3-none-any.whl.metadata (13 kB)\n",
            "Requirement already satisfied: numpy>=1.17 in /usr/local/lib/python3.10/dist-packages (from secml) (1.26.4)\n",
            "Requirement already satisfied: scipy>=1.3.2 in /usr/local/lib/python3.10/dist-packages (from secml) (1.13.1)\n",
            "Requirement already satisfied: matplotlib>=3 in /usr/local/lib/python3.10/dist-packages (from secml) (3.8.0)\n",
            "Requirement already satisfied: scikit-learn>=0.22 in /usr/local/lib/python3.10/dist-packages (from secml) (1.5.2)\n",
            "Requirement already satisfied: joblib>=0.14 in /usr/local/lib/python3.10/dist-packages (from secml) (1.4.2)\n",
            "Requirement already satisfied: Pillow>=6.2.1 in /usr/local/lib/python3.10/dist-packages (from secml) (11.0.0)\n",
            "Requirement already satisfied: requests in /usr/local/lib/python3.10/dist-packages (from secml) (2.32.3)\n",
            "Requirement already satisfied: python-dateutil in /usr/local/lib/python3.10/dist-packages (from secml) (2.8.2)\n",
            "Requirement already satisfied: contourpy>=1.0.1 in /usr/local/lib/python3.10/dist-packages (from matplotlib>=3->secml) (1.3.0)\n",
            "Requirement already satisfied: cycler>=0.10 in /usr/local/lib/python3.10/dist-packages (from matplotlib>=3->secml) (0.12.1)\n",
            "Requirement already satisfied: fonttools>=4.22.0 in /usr/local/lib/python3.10/dist-packages (from matplotlib>=3->secml) (4.54.1)\n",
            "Requirement already satisfied: kiwisolver>=1.0.1 in /usr/local/lib/python3.10/dist-packages (from matplotlib>=3->secml) (1.4.7)\n",
            "Requirement already satisfied: packaging>=20.0 in /usr/local/lib/python3.10/dist-packages (from matplotlib>=3->secml) (24.2)\n",
            "Requirement already satisfied: pyparsing>=2.3.1 in /usr/local/lib/python3.10/dist-packages (from matplotlib>=3->secml) (3.2.0)\n",
            "Requirement already satisfied: six>=1.5 in /usr/local/lib/python3.10/dist-packages (from python-dateutil->secml) (1.16.0)\n",
            "Requirement already satisfied: threadpoolctl>=3.1.0 in /usr/local/lib/python3.10/dist-packages (from scikit-learn>=0.22->secml) (3.5.0)\n",
            "Requirement already satisfied: charset-normalizer<4,>=2 in /usr/local/lib/python3.10/dist-packages (from requests->secml) (3.4.0)\n",
            "Requirement already satisfied: idna<4,>=2.5 in /usr/local/lib/python3.10/dist-packages (from requests->secml) (3.10)\n",
            "Requirement already satisfied: urllib3<3,>=1.21.1 in /usr/local/lib/python3.10/dist-packages (from requests->secml) (2.2.3)\n",
            "Requirement already satisfied: certifi>=2017.4.17 in /usr/local/lib/python3.10/dist-packages (from requests->secml) (2024.8.30)\n",
            "Downloading secml-0.15.6-py3-none-any.whl (463 kB)\n",
            "\u001b[2K   \u001b[90m━━━━━━━━━━━━━━━━━━━━━━━━━━━━━━━━━━━━━━━━\u001b[0m \u001b[32m464.0/464.0 kB\u001b[0m \u001b[31m19.9 MB/s\u001b[0m eta \u001b[36m0:00:00\u001b[0m\n",
            "\u001b[?25hInstalling collected packages: secml\n",
            "Successfully installed secml-0.15.6\n",
            "Collecting foolbox\n",
            "  Downloading foolbox-3.3.4-py3-none-any.whl.metadata (7.3 kB)\n",
            "Requirement already satisfied: numpy in /usr/local/lib/python3.10/dist-packages (from foolbox) (1.26.4)\n",
            "Requirement already satisfied: scipy in /usr/local/lib/python3.10/dist-packages (from foolbox) (1.13.1)\n",
            "Requirement already satisfied: setuptools in /usr/local/lib/python3.10/dist-packages (from foolbox) (75.1.0)\n",
            "Collecting eagerpy>=0.30.0 (from foolbox)\n",
            "  Downloading eagerpy-0.30.0-py3-none-any.whl.metadata (5.5 kB)\n",
            "Requirement already satisfied: GitPython>=3.0.7 in /usr/local/lib/python3.10/dist-packages (from foolbox) (3.1.43)\n",
            "Requirement already satisfied: typing-extensions>=3.7.4.1 in /usr/local/lib/python3.10/dist-packages (from foolbox) (4.12.2)\n",
            "Requirement already satisfied: requests>=2.24.0 in /usr/local/lib/python3.10/dist-packages (from foolbox) (2.32.3)\n",
            "Requirement already satisfied: gitdb<5,>=4.0.1 in /usr/local/lib/python3.10/dist-packages (from GitPython>=3.0.7->foolbox) (4.0.11)\n",
            "Requirement already satisfied: charset-normalizer<4,>=2 in /usr/local/lib/python3.10/dist-packages (from requests>=2.24.0->foolbox) (3.4.0)\n",
            "Requirement already satisfied: idna<4,>=2.5 in /usr/local/lib/python3.10/dist-packages (from requests>=2.24.0->foolbox) (3.10)\n",
            "Requirement already satisfied: urllib3<3,>=1.21.1 in /usr/local/lib/python3.10/dist-packages (from requests>=2.24.0->foolbox) (2.2.3)\n",
            "Requirement already satisfied: certifi>=2017.4.17 in /usr/local/lib/python3.10/dist-packages (from requests>=2.24.0->foolbox) (2024.8.30)\n",
            "Requirement already satisfied: smmap<6,>=3.0.1 in /usr/local/lib/python3.10/dist-packages (from gitdb<5,>=4.0.1->GitPython>=3.0.7->foolbox) (5.0.1)\n",
            "Downloading foolbox-3.3.4-py3-none-any.whl (1.7 MB)\n",
            "\u001b[2K   \u001b[90m━━━━━━━━━━━━━━━━━━━━━━━━━━━━━━━━━━━━━━━━\u001b[0m \u001b[32m1.7/1.7 MB\u001b[0m \u001b[31m19.4 MB/s\u001b[0m eta \u001b[36m0:00:00\u001b[0m\n",
            "\u001b[?25hDownloading eagerpy-0.30.0-py3-none-any.whl (31 kB)\n",
            "Installing collected packages: eagerpy, foolbox\n",
            "Successfully installed eagerpy-0.30.0 foolbox-3.3.4\n",
            "2024-11-14 04:13:24,843 - secml.settings - INFO - New `SECML_HOME_DIR` created: /root/secml-data\n",
            "2024-11-14 04:13:24,843 - secml.settings - INFO - New `SECML_HOME_DIR` created: /root/secml-data\n"
          ]
        },
        {
          "output_type": "stream",
          "name": "stderr",
          "text": [
            "INFO:secml.settings:New `SECML_HOME_DIR` created: /root/secml-data\n"
          ]
        },
        {
          "output_type": "stream",
          "name": "stdout",
          "text": [
            "2024-11-14 04:13:24,850 - secml.settings - INFO - Default configuration file copied to: /root/secml-data/secml.conf\n",
            "2024-11-14 04:13:24,850 - secml.settings - INFO - Default configuration file copied to: /root/secml-data/secml.conf\n"
          ]
        },
        {
          "output_type": "stream",
          "name": "stderr",
          "text": [
            "INFO:secml.settings:Default configuration file copied to: /root/secml-data/secml.conf\n"
          ]
        },
        {
          "output_type": "stream",
          "name": "stdout",
          "text": [
            "2024-11-14 04:13:24,856 - secml.settings - INFO - New `SECML_DS_DIR` created: /root/secml-data/datasets\n",
            "2024-11-14 04:13:24,856 - secml.settings - INFO - New `SECML_DS_DIR` created: /root/secml-data/datasets\n"
          ]
        },
        {
          "output_type": "stream",
          "name": "stderr",
          "text": [
            "INFO:secml.settings:New `SECML_DS_DIR` created: /root/secml-data/datasets\n"
          ]
        },
        {
          "output_type": "stream",
          "name": "stdout",
          "text": [
            "2024-11-14 04:13:24,859 - secml.settings - INFO - New `SECML_MODELS_DIR` created: /root/secml-data/models\n",
            "2024-11-14 04:13:24,859 - secml.settings - INFO - New `SECML_MODELS_DIR` created: /root/secml-data/models\n"
          ]
        },
        {
          "output_type": "stream",
          "name": "stderr",
          "text": [
            "INFO:secml.settings:New `SECML_MODELS_DIR` created: /root/secml-data/models\n"
          ]
        },
        {
          "output_type": "stream",
          "name": "stdout",
          "text": [
            "2024-11-14 04:13:24,864 - secml.settings - INFO - New `SECML_EXP_DIR` created: /root/secml-data/experiments\n",
            "2024-11-14 04:13:24,864 - secml.settings - INFO - New `SECML_EXP_DIR` created: /root/secml-data/experiments\n"
          ]
        },
        {
          "output_type": "stream",
          "name": "stderr",
          "text": [
            "INFO:secml.settings:New `SECML_EXP_DIR` created: /root/secml-data/experiments\n"
          ]
        },
        {
          "output_type": "stream",
          "name": "stdout",
          "text": [
            "2024-11-14 04:13:24,867 - secml.settings - INFO - New `SECML_LOGS_DIR` created: /root/secml-data/logs\n",
            "2024-11-14 04:13:24,867 - secml.settings - INFO - New `SECML_LOGS_DIR` created: /root/secml-data/logs\n"
          ]
        },
        {
          "output_type": "stream",
          "name": "stderr",
          "text": [
            "INFO:secml.settings:New `SECML_LOGS_DIR` created: /root/secml-data/logs\n"
          ]
        },
        {
          "output_type": "stream",
          "name": "stdout",
          "text": [
            "2024-11-14 04:13:24,871 - secml.settings - INFO - New `SECML_PYTORCH_DIR` created: /root/secml-data/pytorch-data\n",
            "2024-11-14 04:13:24,871 - secml.settings - INFO - New `SECML_PYTORCH_DIR` created: /root/secml-data/pytorch-data\n"
          ]
        },
        {
          "output_type": "stream",
          "name": "stderr",
          "text": [
            "INFO:secml.settings:New `SECML_PYTORCH_DIR` created: /root/secml-data/pytorch-data\n"
          ]
        }
      ],
      "source": [
        "#imports\n",
        "try:\n",
        "  import secml\n",
        "except ImportError:\n",
        "  %pip install secml\n",
        "\n",
        "try:\n",
        "  import foolbox\n",
        "except ImportError:\n",
        "  %pip install foolbox\n",
        "\n",
        "from secml.data.loader import CDataLoaderMNIST\n",
        "from torch import nn\n",
        "import torch\n",
        "from secml.ml.classifiers import CClassifierPyTorch\n",
        "import torch.optim as optim\n",
        "from secml.ml.peval.metrics import CMetricAccuracy\n",
        "from secml.figure import CFigure"
      ]
    },
    {
      "cell_type": "markdown",
      "source": [
        "Preprocessing"
      ],
      "metadata": {
        "id": "dmLTeYC-3DLL"
      }
    },
    {
      "cell_type": "code",
      "source": [
        "n_tr = 30000  # number of training samples\n",
        "n_ts = 1000 # number of testing samples\n",
        "\n",
        "loader = CDataLoaderMNIST()\n",
        "tr = loader.load('training', num_samples=n_tr)\n",
        "ts = loader.load('testing', num_samples=n_ts)\n",
        "\n",
        "# normalize the data\n",
        "tr.X = tr.X / 255\n",
        "ts.X = ts.X / 255"
      ],
      "metadata": {
        "id": "FsZxKOlFO4p4",
        "colab": {
          "base_uri": "https://localhost:8080/"
        },
        "outputId": "a3d5e991-1463-4564-f2dd-c869002fb378"
      },
      "execution_count": null,
      "outputs": [
        {
          "output_type": "stream",
          "name": "stdout",
          "text": [
            "Downloading from `https://gitlab.com/api/v4/projects/secml%2Fsecml-zoo/repository/files/datasets%2FMNIST%2Ftrain-images-idx3-ubyte.gz/raw?ref=master` (9912422 bytes)\n",
            "\n",
            "File stored in `/root/secml-data/datasets/mnist/train-images-idx3-ubyte.gz`\n",
            "Downloading from `https://gitlab.com/api/v4/projects/secml%2Fsecml-zoo/repository/files/datasets%2FMNIST%2Ftrain-labels-idx1-ubyte.gz/raw?ref=master` (28881 bytes)\n",
            "\n",
            "File stored in `/root/secml-data/datasets/mnist/train-labels-idx1-ubyte.gz`\n",
            "Downloading from `https://gitlab.com/api/v4/projects/secml%2Fsecml-zoo/repository/files/datasets%2FMNIST%2Ft10k-images-idx3-ubyte.gz/raw?ref=master` (1648877 bytes)\n",
            "\n",
            "File stored in `/root/secml-data/datasets/mnist/t10k-images-idx3-ubyte.gz`\n",
            "Downloading from `https://gitlab.com/api/v4/projects/secml%2Fsecml-zoo/repository/files/datasets%2FMNIST%2Ft10k-labels-idx1-ubyte.gz/raw?ref=master` (4542 bytes)\n",
            "\n",
            "File stored in `/root/secml-data/datasets/mnist/t10k-labels-idx1-ubyte.gz`\n"
          ]
        }
      ]
    },
    {
      "cell_type": "markdown",
      "source": [
        "## Model"
      ],
      "metadata": {
        "id": "KwGh5apqPMTO"
      }
    },
    {
      "cell_type": "code",
      "source": [
        "class Net(nn.Module):\n",
        "  #dataset for a MNIST 10 classes\n",
        "  def __init__(self): #specifices the architecture\n",
        "    super(Net, self).__init__()\n",
        "    self.conv1 = nn.Conv2d(1,10,kernel_size = 5)\n",
        "    self.conv2 = nn.Conv2d(10,20,kernel_size = 5)\n",
        "    self.conv2_drop = nn.Dropout2d()\n",
        "    self.fc1 = nn.Linear(320,50)\n",
        "    self.fc2 = nn.Linear(50,10)\n",
        "\n",
        "  def forward(self,x): #passes input through all the defined layers with activation functions\n",
        "    x = torch.relu(torch.max_pool2d(self.conv1(x), 2))\n",
        "    x = torch.relu(torch.max_pool2d(self.conv2_drop(self.conv2(x)), 2))\n",
        "    x = x.view(-1,320)\n",
        "    x = torch.relu(self.fc1(x))\n",
        "    return self.fc2(x)\n",
        "\n",
        "\n",
        "net = Net() #make the neural  network\n",
        "optimizer = optim.SGD(net.parameters(), lr = 0.001, momentum = 0.9)\n",
        "loss_function = nn.CrossEntropyLoss()\n",
        "\n",
        "#classifier\n",
        "clf = CClassifierPyTorch(model = net,\n",
        "                        loss= loss_function,\n",
        "                        optimizer= optimizer,\n",
        "                        epochs = 3,\n",
        "                        batch_size = 20,\n",
        "                        input_shape = (1, 28,28),\n",
        "                        random_state =0)\n",
        "\n",
        "clf.fit(tr.X, tr.Y) #training\n",
        "\n"
      ],
      "metadata": {
        "colab": {
          "base_uri": "https://localhost:8080/"
        },
        "id": "ChIYAUHqPNpu",
        "outputId": "65b3cf40-6fab-4707-9dfc-caf31117db67"
      },
      "execution_count": null,
      "outputs": [
        {
          "output_type": "execute_result",
          "data": {
            "text/plain": [
              "Net(\n",
              "  (conv1): Conv2d(1, 10, kernel_size=(5, 5), stride=(1, 1))\n",
              "  (conv2): Conv2d(10, 20, kernel_size=(5, 5), stride=(1, 1))\n",
              "  (conv2_drop): Dropout2d(p=0.5, inplace=False)\n",
              "  (fc1): Linear(in_features=320, out_features=50, bias=True)\n",
              "  (fc2): Linear(in_features=50, out_features=10, bias=True)\n",
              ")"
            ]
          },
          "metadata": {},
          "execution_count": 3
        }
      ]
    },
    {
      "cell_type": "code",
      "source": [
        "#original dataset test\n",
        "metric = CMetricAccuracy()\n",
        "preds = clf.predict(ts.X)\n",
        "accuracy = metric.performance_score(y_true=ts.Y, y_pred=preds)\n",
        "print(f\"Accuracy on entire test set: {accuracy * 100}%\")"
      ],
      "metadata": {
        "colab": {
          "base_uri": "https://localhost:8080/"
        },
        "id": "a7AvN9uBPc72",
        "outputId": "7734dbbd-c937-4b76-f9a2-66506fc5f7c0"
      },
      "execution_count": null,
      "outputs": [
        {
          "output_type": "stream",
          "name": "stdout",
          "text": [
            "Accuracy on entire test set: 83.7%\n"
          ]
        }
      ]
    },
    {
      "cell_type": "code",
      "source": [
        "#training data original\n",
        "metric = CMetricAccuracy()\n",
        "preds = clf.predict(tr.X)\n",
        "accuracy = metric.performance_score(y_true=tr.Y, y_pred=preds)\n",
        "print(f\"Accuracy on entire training set: {accuracy * 100}%\")"
      ],
      "metadata": {
        "colab": {
          "base_uri": "https://localhost:8080/"
        },
        "id": "STOW6qrwre0r",
        "outputId": "80d00fb5-8170-472f-de32-a6eea81b084a"
      },
      "execution_count": null,
      "outputs": [
        {
          "output_type": "stream",
          "name": "stdout",
          "text": [
            "Accuracy on entire test set: 84.78666666666666%\n"
          ]
        }
      ]
    },
    {
      "cell_type": "markdown",
      "source": [
        "Not overfitted or underfitted!"
      ],
      "metadata": {
        "id": "YTrD31DEsOmb"
      }
    },
    {
      "cell_type": "markdown",
      "source": [
        "## Data Poisoning Attack"
      ],
      "metadata": {
        "id": "0ADUPA0MPxp7"
      }
    },
    {
      "cell_type": "code",
      "source": [
        "from secml.adv.attacks.evasion import CFoolboxPGDLinf\n",
        "y_target = None\n",
        "lb, ub = 0.0, 1.0\n",
        "eps = 0.2\n",
        "rel_stepsize = 0.025\n",
        "steps = 50\n",
        "samples = ts #samples\n",
        "\n",
        "#PGD attack\n",
        "attack = CFoolboxPGDLinf(clf, y_target,\n",
        "                         lb=lb, ub=ub,\n",
        "                         epsilons=eps,\n",
        "                         rel_stepsize=rel_stepsize,\n",
        "                         steps=steps,\n",
        "                         random_start=False)\n",
        "\n",
        "y_pred, _, adv_ds_PGD, _ = attack.run(samples.X, samples.Y) #the attack\n"
      ],
      "metadata": {
        "id": "HwWcEXXkQOF1"
      },
      "execution_count": null,
      "outputs": []
    },
    {
      "cell_type": "code",
      "source": [
        "adv_ds_PGD.X # these are the adversarial samples"
      ],
      "metadata": {
        "colab": {
          "base_uri": "https://localhost:8080/"
        },
        "id": "tCjqQVZ8UoNa",
        "outputId": "ea521096-ba8b-45ea-b37b-76d5968c9068"
      },
      "execution_count": null,
      "outputs": [
        {
          "output_type": "execute_result",
          "data": {
            "text/plain": [
              "CArray(1000, 784)(dense: [[0.    0.    0.16  ... 0.    0.025 0.135] [0.2   0.18  0.    ... 0.    0.    0.   ] [0.    0.095 0.09  ... 0.01  0.01  0.01 ] ... [0.045 0.115 0.135 ... 0.    0.    0.   ] [0.    0.    0.2   ... 0.2   0.    0.   ] [0.    0.    0.    ... 0.195 0.085 0.01 ]])"
            ]
          },
          "metadata": {},
          "execution_count": 7
        }
      ]
    },
    {
      "cell_type": "code",
      "source": [
        "y_pred #predictions"
      ],
      "metadata": {
        "colab": {
          "base_uri": "https://localhost:8080/"
        },
        "id": "bFmGmXhLWZFU",
        "outputId": "3956ad00-0f5b-47c0-9075-4b081a401206"
      },
      "execution_count": null,
      "outputs": [
        {
          "output_type": "execute_result",
          "data": {
            "text/plain": [
              "CArray(1000,)(dense: [2 5 8 ... 5 5 5])"
            ]
          },
          "metadata": {},
          "execution_count": 8
        }
      ]
    },
    {
      "cell_type": "code",
      "source": [
        "adv_ds_PGD.Y # these are the true labels"
      ],
      "metadata": {
        "colab": {
          "base_uri": "https://localhost:8080/"
        },
        "id": "I3207CfKTk3d",
        "outputId": "307ea8b3-69ab-408b-c4f2-82610fa87132"
      },
      "execution_count": null,
      "outputs": [
        {
          "output_type": "execute_result",
          "data": {
            "text/plain": [
              "CArray(1000,)(dense: [7 2 1 ... 0 0 0])"
            ]
          },
          "metadata": {},
          "execution_count": 9
        }
      ]
    },
    {
      "cell_type": "code",
      "source": [
        "#combine the samples and labels and add it to the copy of the trainig set"
      ],
      "metadata": {
        "id": "9kUUIA3yWMwR"
      },
      "execution_count": null,
      "outputs": []
    },
    {
      "cell_type": "code",
      "source": [
        "import numpy as np\n",
        "import copy"
      ],
      "metadata": {
        "id": "S-1P99mlXIk_"
      },
      "execution_count": null,
      "outputs": []
    },
    {
      "cell_type": "code",
      "source": [
        "tr_copy = copy.deepcopy(tr)"
      ],
      "metadata": {
        "id": "gF-pjX0yXDo0"
      },
      "execution_count": null,
      "outputs": []
    },
    {
      "cell_type": "code",
      "source": [
        "import numpy as np\n",
        "\n",
        "# Assuming tr_copy and adv_ds_PGD are CDatasets from secml\n",
        "# 1. Convert to NumPy arrays (if necessary)\n",
        "tr_copy_X_np = tr_copy.X.tondarray()\n",
        "tr_copy_Y_np = tr_copy.Y.tondarray()\n",
        "adv_ds_PGD_X_np = adv_ds_PGD.X.tondarray()\n",
        "y_pred_np = y_pred.tondarray() # Need the wrong labels\n",
        "\n",
        "# 2. Stack the data and labels\n",
        "combined_X = np.vstack((tr_copy_X_np, adv_ds_PGD_X_np))\n",
        "combined_Y = np.concatenate((tr_copy_Y_np, y_pred_np))\n",
        "\n",
        "# 3. Create a new CDataset instead of updating tr_copy\n",
        "# This ensures the number of samples and labels are consistent\n",
        "from secml.data import CDataset\n",
        "tr_copy_combined = CDataset(combined_X, combined_Y)\n",
        "\n",
        "# Now tr_copy_combined contains both original and adversarial data"
      ],
      "metadata": {
        "id": "ibUO55g6cH9Q"
      },
      "execution_count": null,
      "outputs": []
    },
    {
      "cell_type": "code",
      "source": [
        "tr_copy_combined #poisoned dataset"
      ],
      "metadata": {
        "colab": {
          "base_uri": "https://localhost:8080/"
        },
        "id": "UHzlqhoVczZ5",
        "outputId": "ed4388e7-a34c-490c-b93d-48322210c1c4"
      },
      "execution_count": null,
      "outputs": [
        {
          "output_type": "execute_result",
          "data": {
            "text/plain": [
              "CDataset{'X': CArray(31000, 784)(dense: [[0.    0.    0.    ... 0.    0.    0.   ] [0.    0.    0.    ... 0.    0.    0.   ] [0.    0.    0.    ... 0.    0.    0.   ] ... [0.    0.    0.01  ... 0.    0.2   0.13 ] [0.    0.04  0.    ... 0.    0.085 0.   ] [0.03  0.01  0.06  ... 0.2   0.2   0.2  ]]), 'Y': CArray(31000,)(dense: [5 0 4 ... 5 0 5]), 'header': None}"
            ]
          },
          "metadata": {},
          "execution_count": 36
        }
      ]
    },
    {
      "cell_type": "markdown",
      "source": [
        "##  Adversarial Examples Defending"
      ],
      "metadata": {
        "id": "xv5uAGKFQAC1"
      }
    },
    {
      "cell_type": "code",
      "source": [
        "clf_poisoned = CClassifierPyTorch(model = net,\n",
        "                        loss= loss_function,\n",
        "                        optimizer= optimizer,\n",
        "                        epochs = 3,\n",
        "                        batch_size = 20,\n",
        "                        input_shape = (1, 28,28),\n",
        "                        random_state =0)\n",
        "# for training use the same split of training 30k training samples\n",
        "clf_poisoned.fit(tr_copy_combined[:30000,:].X, tr_copy_combined[:30000,:].Y) #training"
      ],
      "metadata": {
        "colab": {
          "base_uri": "https://localhost:8080/"
        },
        "id": "6RsvTNlgQOxD",
        "outputId": "e35ae9f9-b3d6-455e-a833-d07be62cc605"
      },
      "execution_count": null,
      "outputs": [
        {
          "output_type": "execute_result",
          "data": {
            "text/plain": [
              "Net(\n",
              "  (conv1): Conv2d(1, 10, kernel_size=(5, 5), stride=(1, 1))\n",
              "  (conv2): Conv2d(10, 20, kernel_size=(5, 5), stride=(1, 1))\n",
              "  (conv2_drop): Dropout2d(p=0.5, inplace=False)\n",
              "  (fc1): Linear(in_features=320, out_features=50, bias=True)\n",
              "  (fc2): Linear(in_features=50, out_features=10, bias=True)\n",
              ")"
            ]
          },
          "metadata": {},
          "execution_count": 9
        }
      ]
    },
    {
      "cell_type": "code",
      "source": [
        "#clean dataset\n",
        "metric = CMetricAccuracy()\n",
        "clean_preds = clf_poisoned.predict(ts.X)\n",
        "accuracy = metric.performance_score(y_true=ts.Y, y_pred=clean_preds)\n",
        "print(f\"Accuracy on clean data set: {accuracy * 100}%\")"
      ],
      "metadata": {
        "colab": {
          "base_uri": "https://localhost:8080/"
        },
        "id": "-bLpseoie3Uk",
        "outputId": "1ac6eaaf-0b3f-435a-fe9a-09cf1601ea63"
      },
      "execution_count": null,
      "outputs": [
        {
          "output_type": "stream",
          "name": "stdout",
          "text": [
            "Accuracy on clean data set: 96.89999999999999%\n"
          ]
        }
      ]
    },
    {
      "cell_type": "code",
      "source": [
        "#poinsed daata set\n",
        "metric = CMetricAccuracy()\n",
        "#use the last 1k as testing samples\n",
        "poisoned_preds = clf_poisoned.predict(tr_copy_combined[-1000:,:].X)\n",
        "accuracy = metric.performance_score(y_true=tr_copy_combined[-1000:,:].Y, y_pred=poisoned_preds)\n",
        "print(f\"Accuracy on posoined data set: {accuracy * 100}%\")"
      ],
      "metadata": {
        "colab": {
          "base_uri": "https://localhost:8080/"
        },
        "id": "XIDVKsUDfbSD",
        "outputId": "3ee267b1-fa0c-4574-a19e-428a7e5e9db9"
      },
      "execution_count": null,
      "outputs": [
        {
          "output_type": "stream",
          "name": "stdout",
          "text": [
            "Accuracy on posoined data set: 58.099999999999994%\n"
          ]
        }
      ]
    },
    {
      "cell_type": "markdown",
      "source": [
        "## Evaluate"
      ],
      "metadata": {
        "id": "iTwEnCWDQCtb"
      }
    },
    {
      "cell_type": "code",
      "source": [
        "#genrate and visualize adversarial examples\n",
        "def show_digits(samples, preds, labels, n_display=8, title=None):\n",
        "    digits = list(range(10))\n",
        "    samples = samples.atleast_2d()\n",
        "    n_display = min(n_display, samples.shape[0])\n",
        "    fig = CFigure(width=n_display * 2, height=4)\n",
        "    for idx in range(n_display):\n",
        "        fig.subplot(2, n_display, idx + 1)\n",
        "        fig.sp.xticks([])\n",
        "        fig.sp.yticks([])\n",
        "        fig.sp.imshow(samples[idx, :].reshape((28, 28)), cmap='gray')\n",
        "        fig.sp.title(\"{} ({})\".format(digits[labels[idx].item()], digits[preds[idx].item()]),\n",
        "                     color=(\"green\" if labels[idx].item() == preds[idx].item() else \"red\"))\n",
        "    if title is not None:\n",
        "        fig.title(title)\n",
        "    fig.show()\n",
        "\n",
        "show_digits(samples=adv_ds_PGD.X, preds=adv_ds_PGD.Y, labels=adv_ds_PGD.Y, title=\"Adversarial samples\")"
      ],
      "metadata": {
        "colab": {
          "base_uri": "https://localhost:8080/",
          "height": 163
        },
        "id": "8JmL8LhA5q2a",
        "outputId": "c7e76456-4e63-46cd-ade8-d4810e9c5e00"
      },
      "execution_count": null,
      "outputs": [
        {
          "output_type": "display_data",
          "data": {
            "text/plain": [
              "<Figure size 1600x400 with 8 Axes>"
            ],
            "image/png": "[encoded data removed]"
          },
          "metadata": {}
        }
      ]
    },
    {
      "cell_type": "code",
      "source": [
        "# sec eval on the robust model\n",
        "from secml.adv.seceval import CSecEval\n",
        "from secml.array import CArray\n",
        "\n",
        "robust_attack = CFoolboxPGDLinf(clf_poisoned, y_target,\n",
        "                         lb=lb, ub=ub,\n",
        "                         epsilons=eps,\n",
        "                         rel_stepsize=rel_stepsize,\n",
        "                         steps=steps,\n",
        "                         random_start=False)\n",
        "\n",
        "epsilon_vals = CArray.linspace(0, stop=0.5, num=10)\n",
        "sec_eval = CSecEval(attack=robust_attack, param_name=\"epsilon\",param_values=epsilon_vals)\n",
        "sec_eval.run_sec_eval(ts[:20,:]) #using 20 samples of test set so it goes by faster"
      ],
      "metadata": {
        "id": "vFA-9NPZ5ccN"
      },
      "execution_count": null,
      "outputs": []
    },
    {
      "cell_type": "code",
      "source": [
        "%matplotlib inline\n",
        "from secml.figure import CFigure\n",
        "fig = CFigure(height=5, width=10)\n",
        "fig.sp.plot_sec_eval(sec_eval.sec_eval_data, marker='o', label=\"MNIST Robust\", show_average=True)\n",
        "fig.show()"
      ],
      "metadata": {
        "id": "YeBl6-5OuCXm",
        "colab": {
          "base_uri": "https://localhost:8080/",
          "height": 495
        },
        "outputId": "f10022a0-eaa3-4219-af0f-2de6030c7c87"
      },
      "execution_count": null,
      "outputs": [
        {
          "output_type": "display_data",
          "data": {
            "text/plain": [
              "<Figure size 1000x500 with 1 Axes>"
            ],
            "image/png": "[encoded data removed]"
          },
          "metadata": {}
        }
      ]
    },
    {
      "cell_type": "code",
      "source": [
        "# create a new attack, generate adversatial examples from that and evaluate it on the clf_poisoned\n",
        "from secml.adv.attacks.evasion import CFoolboxFGM\n",
        "y_target = None # untarget\n",
        "index = 0\n",
        "point = ts[index, :]\n",
        "x0, y0 = point.X, point.Y\n",
        "lb, ub = 0.0, 1.0\n",
        "eps = 0.1 #epsilon\n",
        "\n",
        "attack_FGSM = CFoolboxFGM(clf_poisoned, y_target,\n",
        "                         lb=lb, ub=ub,\n",
        "                         epsilons=eps,\n",
        "                         distance='l2',\n",
        "                         random_start=False)\n",
        "y_pred, _, adv_ds_fgm, _ = attack.run(ts.X, ts.Y) #the attack on clean dataset\n"
      ],
      "metadata": {
        "id": "-6n3X33Nv0O7"
      },
      "execution_count": null,
      "outputs": []
    },
    {
      "cell_type": "code",
      "source": [
        "# use the posioned model and test it on the clean dataste\n",
        "metric = CMetricAccuracy()\n",
        "preds = clf_poisoned.predict(ts.X)\n",
        "accuracy = metric.performance_score(y_true=ts.Y, y_pred=preds)\n",
        "print(f\"Accuracy on robust model using clena data set: {accuracy * 100}%\")"
      ],
      "metadata": {
        "colab": {
          "base_uri": "https://localhost:8080/"
        },
        "id": "YabbUYgT_kR9",
        "outputId": "0e00c130-329e-4db3-c469-ee6d76eaf6ed"
      },
      "execution_count": null,
      "outputs": [
        {
          "output_type": "stream",
          "name": "stdout",
          "text": [
            "Accuracy on robust model using clena data set: 98.2%\n"
          ]
        }
      ]
    },
    {
      "cell_type": "code",
      "source": [
        "# FGSM adversarial examples on poisoned classifier\n",
        "metric = CMetricAccuracy()\n",
        "preds = clf_poisoned.predict(adv_ds_fgm.X)\n",
        "accuracy = metric.performance_score(y_true=adv_ds_fgm.Y, y_pred=preds)\n",
        "print(f\"Accuracy on robust model using poisoned data set: {accuracy * 100}%\")"
      ],
      "metadata": {
        "id": "-epBIlXVwSCh",
        "colab": {
          "base_uri": "https://localhost:8080/"
        },
        "outputId": "30da6e6c-119f-43a2-ac67-f57ba5689efb"
      },
      "execution_count": null,
      "outputs": [
        {
          "output_type": "stream",
          "name": "stdout",
          "text": [
            "Accuracy on robust model using poisoned data set: 6.6000000000000005%\n"
          ]
        }
      ]
    },
    {
      "cell_type": "markdown",
      "source": [
        "## Outlier Dectection"
      ],
      "metadata": {
        "id": "4FJxpJ5UQeBv"
      }
    },
    {
      "cell_type": "code",
      "source": [
        "from sklearn.ensemble import IsolationForest\n",
        "from secml.data import CDataset\n",
        "#cleaning on the poisoned dataset\n",
        "# Create and fit Isolation Forest\n",
        "outlier_detector = IsolationForest(contamination='auto')  # Or specify a contamination fraction\n",
        "outlier_detector.fit(tr_copy_combined.X.tondarray())\n",
        "\n",
        "# Predict outliers and get inlier indices\n",
        "inlier_indices = outlier_detector.predict(tr_copy_combined.X.tondarray()) == 1\n",
        "\n",
        "# Create sanitized dataset\n",
        "sanitized_X = tr_copy_combined.X.todense().tondarray()[inlier_indices, :]\n",
        "sanitized_Y = tr_copy_combined.Y.tondarray()[inlier_indices]\n",
        "\n",
        "sanitized_tr_data = CDataset(sanitized_X, sanitized_Y)"
      ],
      "metadata": {
        "id": "Xo1WapJT7-yt"
      },
      "execution_count": null,
      "outputs": []
    },
    {
      "cell_type": "code",
      "source": [
        "# training data went down from 31000 to 29467 indicating that the outliers where remover\n",
        "sanitized_tr_data.X.shape"
      ],
      "metadata": {
        "colab": {
          "base_uri": "https://localhost:8080/"
        },
        "id": "l8VnIGplFeJZ",
        "outputId": "e37c92a4-a04d-42fd-f0cd-e52f69253254"
      },
      "execution_count": null,
      "outputs": [
        {
          "output_type": "execute_result",
          "data": {
            "text/plain": [
              "(29467, 784)"
            ]
          },
          "metadata": {},
          "execution_count": 25
        }
      ]
    },
    {
      "cell_type": "code",
      "source": [
        "clf_sanitized = CClassifierPyTorch(model = net,\n",
        "                        loss= loss_function,\n",
        "                        optimizer= optimizer,\n",
        "                        epochs = 3,\n",
        "                        batch_size = 20,\n",
        "                        input_shape = (1, 28,28),\n",
        "                        random_state =0)"
      ],
      "metadata": {
        "id": "4cZlmaxIgIi2"
      },
      "execution_count": null,
      "outputs": []
    },
    {
      "cell_type": "code",
      "source": [
        "clf_sanitized.fit(sanitized_tr_data.X, sanitized_tr_data.Y) #training on sanitized data"
      ],
      "metadata": {
        "colab": {
          "base_uri": "https://localhost:8080/"
        },
        "id": "SVpuBflTgPWs",
        "outputId": "1d5045ce-72c7-4ddf-d735-108a24bcc7ec"
      },
      "execution_count": null,
      "outputs": [
        {
          "output_type": "execute_result",
          "data": {
            "text/plain": [
              "Net(\n",
              "  (conv1): Conv2d(1, 10, kernel_size=(5, 5), stride=(1, 1))\n",
              "  (conv2): Conv2d(10, 20, kernel_size=(5, 5), stride=(1, 1))\n",
              "  (conv2_drop): Dropout2d(p=0.5, inplace=False)\n",
              "  (fc1): Linear(in_features=320, out_features=50, bias=True)\n",
              "  (fc2): Linear(in_features=50, out_features=10, bias=True)\n",
              ")"
            ]
          },
          "metadata": {},
          "execution_count": 42
        }
      ]
    },
    {
      "cell_type": "markdown",
      "source": [
        "## Evaluate Defenses"
      ],
      "metadata": {
        "id": "Chiq9oWJQgLh"
      }
    },
    {
      "cell_type": "code",
      "source": [
        "#evaluate accuracy of model with defense mechnisms on clean, poisoned and adversarial\n",
        "#clean dataset\n",
        "metric = CMetricAccuracy()\n",
        "preds = clf_sanitized.predict(ts.X)\n",
        "accuracy = metric.performance_score(y_true=ts.Y, y_pred=preds)\n",
        "print(f\"Accuracy on clean data set on the : {accuracy * 100}%\")"
      ],
      "metadata": {
        "id": "UAzQiq77g7q3",
        "colab": {
          "base_uri": "https://localhost:8080/"
        },
        "outputId": "13096851-11f1-4f2c-d5ae-9059a2a3b05d"
      },
      "execution_count": null,
      "outputs": [
        {
          "output_type": "stream",
          "name": "stdout",
          "text": [
            "Accuracy on clean data set on the : 98.5%\n"
          ]
        }
      ]
    },
    {
      "cell_type": "code",
      "source": [
        "#poisoned dataset on model with defense\n",
        "metric = CMetricAccuracy()\n",
        "preds = clf_sanitized.predict(tr_copy_combined[-1000:,:].X)\n",
        "accuracy = metric.performance_score(y_true=tr_copy_combined[-1000:,:].Y, y_pred=preds)\n",
        "print(f\"Accuracy on poisoned data set: {accuracy * 100}%\")"
      ],
      "metadata": {
        "id": "_YtZ_NglhH7x",
        "colab": {
          "base_uri": "https://localhost:8080/"
        },
        "outputId": "948f3d65-f411-4ede-f1d4-a52dba1f3899"
      },
      "execution_count": null,
      "outputs": [
        {
          "output_type": "stream",
          "name": "stdout",
          "text": [
            "Accuracy on poisoned data set: 58.099999999999994%\n"
          ]
        }
      ]
    },
    {
      "cell_type": "code",
      "source": [
        "#adversarial datset of model with defense\n",
        "metric = CMetricAccuracy()\n",
        "preds = clf_sanitized.predict(adv_ds_fgm.X)\n",
        "accuracy = metric.performance_score(y_true=adv_ds_fgm.Y, y_pred=preds) #FGM attack from phase 5\n",
        "print(f\"Accuracy on adversarial data set: {accuracy * 100}%\")"
      ],
      "metadata": {
        "id": "EcJN7MZnhWtI",
        "colab": {
          "base_uri": "https://localhost:8080/"
        },
        "outputId": "f7a832ef-d4a1-49ec-c6db-2b91e98ae9a5"
      },
      "execution_count": null,
      "outputs": [
        {
          "output_type": "stream",
          "name": "stdout",
          "text": [
            "Accuracy on adversarial data set: 9.6%\n"
          ]
        }
      ]
    }
  ]
}